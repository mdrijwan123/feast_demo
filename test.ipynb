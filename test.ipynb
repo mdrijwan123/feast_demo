{
 "cells": [
  {
   "cell_type": "code",
   "execution_count": 2,
   "metadata": {},
   "outputs": [],
   "source": [
    "from datetime import datetime, timedelta\n",
    "import pandas as pd\n",
    "import numpy as np\n",
    "from feast import FeatureStore\n",
    "import warnings \n",
    "warnings.filterwarnings(\"ignore\")"
   ]
  },
  {
   "cell_type": "code",
   "execution_count": 3,
   "metadata": {},
   "outputs": [
    {
     "name": "stdout",
     "output_type": "stream",
     "text": [
      "Materializing \u001b[1m\u001b[32m0\u001b[0m feature views to \u001b[1m\u001b[32m2022-03-09 03:40:10+05:30\u001b[0m into the \u001b[1m\u001b[32msqlite\u001b[0m online store.\n",
      "\n"
     ]
    }
   ],
   "source": [
    "from datetime import datetime\n",
    "!feast materialize-incremental {datetime.now().isoformat()}"
   ]
  },
  {
   "cell_type": "code",
   "execution_count": 4,
   "metadata": {},
   "outputs": [],
   "source": [
    "# The entity dataframe is the dataframe we want to enrich with feature values\n",
    "entity_df = pd.DataFrame.from_dict(\n",
    "    {\n",
    "        \"driver_id\": [1001, 1002, 1003],\n",
    "        \"label_driver_reported_satisfaction\": [1, 5, 3], \n",
    "        \"event_timestamp\": [\n",
    "            datetime.now() - timedelta(minutes=11),\n",
    "            datetime.now() - timedelta(minutes=36),\n",
    "            datetime.now() - timedelta(minutes=73),\n",
    "        ],\n",
    "    }\n",
    ")"
   ]
  },
  {
   "cell_type": "code",
   "execution_count": 5,
   "metadata": {},
   "outputs": [],
   "source": [
    "store = FeatureStore(repo_path=\".\")"
   ]
  },
  {
   "cell_type": "code",
   "execution_count": 6,
   "metadata": {},
   "outputs": [
    {
     "ename": "FeatureViewNotFoundException",
     "evalue": "Feature view driver_hourly_stats does not exist",
     "output_type": "error",
     "traceback": [
      "\u001b[1;31m---------------------------------------------------------------------------\u001b[0m",
      "\u001b[1;31mFeatureViewNotFoundException\u001b[0m              Traceback (most recent call last)",
      "\u001b[1;32md:\\Sephora_projects\\Az_feast_POC\\Feature_spark\\test.ipynb Cell 5'\u001b[0m in \u001b[0;36m<cell line: 1>\u001b[1;34m()\u001b[0m\n\u001b[1;32m----> <a href='vscode-notebook-cell:/d%3A/Sephora_projects/Az_feast_POC/Feature_spark/test.ipynb#ch0000004?line=0'>1</a>\u001b[0m training_df \u001b[39m=\u001b[39m store\u001b[39m.\u001b[39;49mget_historical_features(\n\u001b[0;32m      <a href='vscode-notebook-cell:/d%3A/Sephora_projects/Az_feast_POC/Feature_spark/test.ipynb#ch0000004?line=1'>2</a>\u001b[0m     entity_df\u001b[39m=\u001b[39;49mentity_df,\n\u001b[0;32m      <a href='vscode-notebook-cell:/d%3A/Sephora_projects/Az_feast_POC/Feature_spark/test.ipynb#ch0000004?line=2'>3</a>\u001b[0m     features\u001b[39m=\u001b[39;49m[\n\u001b[0;32m      <a href='vscode-notebook-cell:/d%3A/Sephora_projects/Az_feast_POC/Feature_spark/test.ipynb#ch0000004?line=3'>4</a>\u001b[0m         \u001b[39m\"\u001b[39;49m\u001b[39mdriver_hourly_stats:conv_rate\u001b[39;49m\u001b[39m\"\u001b[39;49m,\n\u001b[0;32m      <a href='vscode-notebook-cell:/d%3A/Sephora_projects/Az_feast_POC/Feature_spark/test.ipynb#ch0000004?line=4'>5</a>\u001b[0m         \u001b[39m\"\u001b[39;49m\u001b[39mdriver_hourly_stats:acc_rate\u001b[39;49m\u001b[39m\"\u001b[39;49m,\n\u001b[0;32m      <a href='vscode-notebook-cell:/d%3A/Sephora_projects/Az_feast_POC/Feature_spark/test.ipynb#ch0000004?line=5'>6</a>\u001b[0m         \u001b[39m\"\u001b[39;49m\u001b[39mdriver_hourly_stats:avg_daily_trips\u001b[39;49m\u001b[39m\"\u001b[39;49m,\n\u001b[0;32m      <a href='vscode-notebook-cell:/d%3A/Sephora_projects/Az_feast_POC/Feature_spark/test.ipynb#ch0000004?line=6'>7</a>\u001b[0m     ],\n\u001b[0;32m      <a href='vscode-notebook-cell:/d%3A/Sephora_projects/Az_feast_POC/Feature_spark/test.ipynb#ch0000004?line=7'>8</a>\u001b[0m )\u001b[39m.\u001b[39mto_df()\n\u001b[0;32m     <a href='vscode-notebook-cell:/d%3A/Sephora_projects/Az_feast_POC/Feature_spark/test.ipynb#ch0000004?line=9'>10</a>\u001b[0m \u001b[39mprint\u001b[39m(\u001b[39m\"\u001b[39m\u001b[39m----- Feature schema -----\u001b[39m\u001b[39m\\n\u001b[39;00m\u001b[39m\"\u001b[39m)\n\u001b[0;32m     <a href='vscode-notebook-cell:/d%3A/Sephora_projects/Az_feast_POC/Feature_spark/test.ipynb#ch0000004?line=10'>11</a>\u001b[0m \u001b[39mprint\u001b[39m(training_df\u001b[39m.\u001b[39minfo())\n",
      "File \u001b[1;32m~\\Anaconda3\\envs\\feast\\lib\\site-packages\\feast\\usage.py:280\u001b[0m, in \u001b[0;36mlog_exceptions_and_usage.<locals>.decorator.<locals>.wrapper\u001b[1;34m(*args, **kwargs)\u001b[0m\n\u001b[0;32m    <a href='file:///c%3A/Users/mohammed.rijwan/Anaconda3/envs/feast/lib/site-packages/feast/usage.py?line=276'>277</a>\u001b[0m     ctx\u001b[39m.\u001b[39mtraceback \u001b[39m=\u001b[39m _trace_to_log(traceback)\n\u001b[0;32m    <a href='file:///c%3A/Users/mohammed.rijwan/Anaconda3/envs/feast/lib/site-packages/feast/usage.py?line=278'>279</a>\u001b[0m     \u001b[39mif\u001b[39;00m traceback:\n\u001b[1;32m--> <a href='file:///c%3A/Users/mohammed.rijwan/Anaconda3/envs/feast/lib/site-packages/feast/usage.py?line=279'>280</a>\u001b[0m         \u001b[39mraise\u001b[39;00m exc\u001b[39m.\u001b[39mwith_traceback(traceback)\n\u001b[0;32m    <a href='file:///c%3A/Users/mohammed.rijwan/Anaconda3/envs/feast/lib/site-packages/feast/usage.py?line=281'>282</a>\u001b[0m     \u001b[39mraise\u001b[39;00m exc\n\u001b[0;32m    <a href='file:///c%3A/Users/mohammed.rijwan/Anaconda3/envs/feast/lib/site-packages/feast/usage.py?line=282'>283</a>\u001b[0m \u001b[39mfinally\u001b[39;00m:\n",
      "File \u001b[1;32m~\\Anaconda3\\envs\\feast\\lib\\site-packages\\feast\\usage.py:269\u001b[0m, in \u001b[0;36mlog_exceptions_and_usage.<locals>.decorator.<locals>.wrapper\u001b[1;34m(*args, **kwargs)\u001b[0m\n\u001b[0;32m    <a href='file:///c%3A/Users/mohammed.rijwan/Anaconda3/envs/feast/lib/site-packages/feast/usage.py?line=265'>266</a>\u001b[0m ctx\u001b[39m.\u001b[39mattributes\u001b[39m.\u001b[39mupdate(attrs)\n\u001b[0;32m    <a href='file:///c%3A/Users/mohammed.rijwan/Anaconda3/envs/feast/lib/site-packages/feast/usage.py?line=267'>268</a>\u001b[0m \u001b[39mtry\u001b[39;00m:\n\u001b[1;32m--> <a href='file:///c%3A/Users/mohammed.rijwan/Anaconda3/envs/feast/lib/site-packages/feast/usage.py?line=268'>269</a>\u001b[0m     \u001b[39mreturn\u001b[39;00m func(\u001b[39m*\u001b[39;49margs, \u001b[39m*\u001b[39;49m\u001b[39m*\u001b[39;49mkwargs)\n\u001b[0;32m    <a href='file:///c%3A/Users/mohammed.rijwan/Anaconda3/envs/feast/lib/site-packages/feast/usage.py?line=269'>270</a>\u001b[0m \u001b[39mexcept\u001b[39;00m \u001b[39mException\u001b[39;00m:\n\u001b[0;32m    <a href='file:///c%3A/Users/mohammed.rijwan/Anaconda3/envs/feast/lib/site-packages/feast/usage.py?line=270'>271</a>\u001b[0m     \u001b[39mif\u001b[39;00m ctx\u001b[39m.\u001b[39mexception:\n\u001b[0;32m    <a href='file:///c%3A/Users/mohammed.rijwan/Anaconda3/envs/feast/lib/site-packages/feast/usage.py?line=271'>272</a>\u001b[0m         \u001b[39m# exception was already recorded\u001b[39;00m\n",
      "File \u001b[1;32m~\\Anaconda3\\envs\\feast\\lib\\site-packages\\feast\\feature_store.py:827\u001b[0m, in \u001b[0;36mFeatureStore.get_historical_features\u001b[1;34m(self, entity_df, features, full_feature_names)\u001b[0m\n\u001b[0;32m    <a href='file:///c%3A/Users/mohammed.rijwan/Anaconda3/envs/feast/lib/site-packages/feast/feature_store.py?line=817'>818</a>\u001b[0m (\n\u001b[0;32m    <a href='file:///c%3A/Users/mohammed.rijwan/Anaconda3/envs/feast/lib/site-packages/feast/feature_store.py?line=818'>819</a>\u001b[0m     all_feature_views,\n\u001b[0;32m    <a href='file:///c%3A/Users/mohammed.rijwan/Anaconda3/envs/feast/lib/site-packages/feast/feature_store.py?line=819'>820</a>\u001b[0m     all_request_feature_views,\n\u001b[0;32m    <a href='file:///c%3A/Users/mohammed.rijwan/Anaconda3/envs/feast/lib/site-packages/feast/feature_store.py?line=820'>821</a>\u001b[0m     all_on_demand_feature_views,\n\u001b[0;32m    <a href='file:///c%3A/Users/mohammed.rijwan/Anaconda3/envs/feast/lib/site-packages/feast/feature_store.py?line=821'>822</a>\u001b[0m ) \u001b[39m=\u001b[39m \u001b[39mself\u001b[39m\u001b[39m.\u001b[39m_get_feature_views_to_use(features)\n\u001b[0;32m    <a href='file:///c%3A/Users/mohammed.rijwan/Anaconda3/envs/feast/lib/site-packages/feast/feature_store.py?line=823'>824</a>\u001b[0m \u001b[39m# TODO(achal): _group_feature_refs returns the on demand feature views, but it's no passed into the provider.\u001b[39;00m\n\u001b[0;32m    <a href='file:///c%3A/Users/mohammed.rijwan/Anaconda3/envs/feast/lib/site-packages/feast/feature_store.py?line=824'>825</a>\u001b[0m \u001b[39m# This is a weird interface quirk - we should revisit the `get_historical_features` to\u001b[39;00m\n\u001b[0;32m    <a href='file:///c%3A/Users/mohammed.rijwan/Anaconda3/envs/feast/lib/site-packages/feast/feature_store.py?line=825'>826</a>\u001b[0m \u001b[39m# pass in the on demand feature views as well.\u001b[39;00m\n\u001b[1;32m--> <a href='file:///c%3A/Users/mohammed.rijwan/Anaconda3/envs/feast/lib/site-packages/feast/feature_store.py?line=826'>827</a>\u001b[0m fvs, odfvs, request_fvs, request_fv_refs \u001b[39m=\u001b[39m _group_feature_refs(\n\u001b[0;32m    <a href='file:///c%3A/Users/mohammed.rijwan/Anaconda3/envs/feast/lib/site-packages/feast/feature_store.py?line=827'>828</a>\u001b[0m     _feature_refs,\n\u001b[0;32m    <a href='file:///c%3A/Users/mohammed.rijwan/Anaconda3/envs/feast/lib/site-packages/feast/feature_store.py?line=828'>829</a>\u001b[0m     all_feature_views,\n\u001b[0;32m    <a href='file:///c%3A/Users/mohammed.rijwan/Anaconda3/envs/feast/lib/site-packages/feast/feature_store.py?line=829'>830</a>\u001b[0m     all_request_feature_views,\n\u001b[0;32m    <a href='file:///c%3A/Users/mohammed.rijwan/Anaconda3/envs/feast/lib/site-packages/feast/feature_store.py?line=830'>831</a>\u001b[0m     all_on_demand_feature_views,\n\u001b[0;32m    <a href='file:///c%3A/Users/mohammed.rijwan/Anaconda3/envs/feast/lib/site-packages/feast/feature_store.py?line=831'>832</a>\u001b[0m )\n\u001b[0;32m    <a href='file:///c%3A/Users/mohammed.rijwan/Anaconda3/envs/feast/lib/site-packages/feast/feature_store.py?line=832'>833</a>\u001b[0m feature_views \u001b[39m=\u001b[39m \u001b[39mlist\u001b[39m(view \u001b[39mfor\u001b[39;00m view, _ \u001b[39min\u001b[39;00m fvs)\n\u001b[0;32m    <a href='file:///c%3A/Users/mohammed.rijwan/Anaconda3/envs/feast/lib/site-packages/feast/feature_store.py?line=833'>834</a>\u001b[0m on_demand_feature_views \u001b[39m=\u001b[39m \u001b[39mlist\u001b[39m(view \u001b[39mfor\u001b[39;00m view, _ \u001b[39min\u001b[39;00m odfvs)\n",
      "File \u001b[1;32m~\\Anaconda3\\envs\\feast\\lib\\site-packages\\feast\\feature_store.py:1923\u001b[0m, in \u001b[0;36m_group_feature_refs\u001b[1;34m(features, all_feature_views, all_request_feature_views, all_on_demand_feature_views)\u001b[0m\n\u001b[0;32m   <a href='file:///c%3A/Users/mohammed.rijwan/Anaconda3/envs/feast/lib/site-packages/feast/feature_store.py?line=1920'>1921</a>\u001b[0m         request_view_refs\u001b[39m.\u001b[39madd(ref)\n\u001b[0;32m   <a href='file:///c%3A/Users/mohammed.rijwan/Anaconda3/envs/feast/lib/site-packages/feast/feature_store.py?line=1921'>1922</a>\u001b[0m     \u001b[39melse\u001b[39;00m:\n\u001b[1;32m-> <a href='file:///c%3A/Users/mohammed.rijwan/Anaconda3/envs/feast/lib/site-packages/feast/feature_store.py?line=1922'>1923</a>\u001b[0m         \u001b[39mraise\u001b[39;00m FeatureViewNotFoundException(view_name)\n\u001b[0;32m   <a href='file:///c%3A/Users/mohammed.rijwan/Anaconda3/envs/feast/lib/site-packages/feast/feature_store.py?line=1924'>1925</a>\u001b[0m fvs_result: List[Tuple[FeatureView, List[\u001b[39mstr\u001b[39m]]] \u001b[39m=\u001b[39m []\n\u001b[0;32m   <a href='file:///c%3A/Users/mohammed.rijwan/Anaconda3/envs/feast/lib/site-packages/feast/feature_store.py?line=1925'>1926</a>\u001b[0m odfvs_result: List[Tuple[OnDemandFeatureView, List[\u001b[39mstr\u001b[39m]]] \u001b[39m=\u001b[39m []\n",
      "\u001b[1;31mFeatureViewNotFoundException\u001b[0m: Feature view driver_hourly_stats does not exist"
     ]
    }
   ],
   "source": [
    "training_df = store.get_historical_features(\n",
    "    entity_df=entity_df,\n",
    "    features=[\n",
    "        \"driver_hourly_stats:conv_rate\",\n",
    "        \"driver_hourly_stats:acc_rate\",\n",
    "        \"driver_hourly_stats:avg_daily_trips\",\n",
    "    ],\n",
    ").to_df()\n",
    "\n",
    "print(\"----- Feature schema -----\\n\")\n",
    "print(training_df.info())\n",
    "\n",
    "print()\n",
    "print(\"----- Example features -----\\n\")\n",
    "print(training_df.head())"
   ]
  },
  {
   "cell_type": "code",
   "execution_count": null,
   "metadata": {},
   "outputs": [],
   "source": []
  }
 ],
 "metadata": {
  "interpreter": {
   "hash": "fb73669fb8b7af5221a1b2a41c60db439b14a6698593d424711656e686cf61be"
  },
  "kernelspec": {
   "display_name": "Python 3.8.8 ('base')",
   "language": "python",
   "name": "python3"
  },
  "language_info": {
   "codemirror_mode": {
    "name": "ipython",
    "version": 3
   },
   "file_extension": ".py",
   "mimetype": "text/x-python",
   "name": "python",
   "nbconvert_exporter": "python",
   "pygments_lexer": "ipython3",
   "version": "3.8.12"
  },
  "orig_nbformat": 4
 },
 "nbformat": 4,
 "nbformat_minor": 2
}
